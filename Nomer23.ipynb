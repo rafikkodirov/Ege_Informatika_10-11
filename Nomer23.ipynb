{
 "cells": [
  {
   "cell_type": "markdown",
   "metadata": {},
   "source": [
    "https://code-enjoy.ru/ege_po_informatike_2025_zadanie_23_chudo_shablon/"
   ]
  },
  {
   "cell_type": "markdown",
   "metadata": {},
   "source": [
    "https://dzen.ru/a/ZSp9TNFB1gJAhYKc"
   ]
  },
  {
   "cell_type": "markdown",
   "metadata": {},
   "source": [
    "https://www.youtube.com/watch?v=7WPN3t6vCSs"
   ]
  },
  {
   "cell_type": "markdown",
   "metadata": {},
   "source": [
    "https://www.yaklass.ru/p/edinyj-gosudarstvennyj-ekzamen/informatika/ege-trenazher-7330677/zadanie-23-analiz-rezultata-ispolneniia-algoritma-7330700/re-c1ad1995-527a-43bd-981d-e9e42912b822"
   ]
  }
 ],
 "metadata": {
  "language_info": {
   "name": "python"
  }
 },
 "nbformat": 4,
 "nbformat_minor": 2
}

{
 "cells": [
  {
   "cell_type": "markdown",
   "metadata": {},
   "source": [
    "https://code-enjoy.ru/ege_po_informatike_2025_zadanie_16_rekursiya/"
   ]
  },
  {
   "cell_type": "markdown",
   "metadata": {},
   "source": [
    "https://ege-study.ru/ru/ege/materialy/informatika/polnyi-kurs-podgotovki-k-ege-po-informatike/zadanie-16/"
   ]
  },
  {
   "cell_type": "markdown",
   "metadata": {},
   "source": [
    "https://labs-org.ru/ege-16/"
   ]
  },
  {
   "cell_type": "markdown",
   "metadata": {},
   "source": [
    "https://www.yaklass.ru/p/informatika/python-bazovyj-uroven/reshenie-zadach-ege-s-pomoshchiu-iazyka-python-6985557/zadanie-16-rekursivnye-algoritmy-6920108/re-acc6cbf0-e3b0-4fef-b282-4aa46efde441"
   ]
  }
 ],
 "metadata": {
  "language_info": {
   "name": "python"
  }
 },
 "nbformat": 4,
 "nbformat_minor": 2
}

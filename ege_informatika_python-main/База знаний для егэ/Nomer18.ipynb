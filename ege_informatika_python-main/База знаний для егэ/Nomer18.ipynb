{
 "cells": [
  {
   "cell_type": "markdown",
   "metadata": {},
   "source": [
    "https://code-enjoy.ru/ege_po_informatike_2025_zadanie_18_tablica_chisel/"
   ]
  },
  {
   "cell_type": "markdown",
   "metadata": {},
   "source": [
    "https://www.youtube.com/watch?v=CMRLd9jUQx8"
   ]
  },
  {
   "cell_type": "markdown",
   "metadata": {},
   "source": [
    "https://www.yaklass.ru/p/edinyj-gosudarstvennyj-ekzamen/informatika/ege-trenazher-7330677/zadanie-18-obrabotka-tcelochislennykh-dannykh-v-elektronnykh-tablitcakh-7330695/re-15d593ee-eef5-401c-b1e1-5079b87ba378"
   ]
  },
  {
   "cell_type": "markdown",
   "metadata": {},
   "source": [
    "https://4ege.ru/informatika/63725-razbor-zadanija-18-kegje-po-informatike.html"
   ]
  }
 ],
 "metadata": {
  "language_info": {
   "name": "python"
  }
 },
 "nbformat": 4,
 "nbformat_minor": 2
}

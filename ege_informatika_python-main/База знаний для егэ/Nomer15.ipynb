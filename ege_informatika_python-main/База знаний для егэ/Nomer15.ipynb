{
 "cells": [
  {
   "cell_type": "markdown",
   "metadata": {},
   "source": [
    "https://labs-org.ru/ege-15/"
   ]
  },
  {
   "cell_type": "markdown",
   "metadata": {},
   "source": [
    "https://code-enjoy.ru/ege_po_informatike_2025_zadanie_15_prostim_yazikom/"
   ]
  },
  {
   "cell_type": "markdown",
   "metadata": {},
   "source": [
    "https://rutube.ru/video/908d0a90a52ef47453b83aaffe2d5168/"
   ]
  },
  {
   "cell_type": "markdown",
   "metadata": {},
   "source": [
    "https://vk.com/wall-205997912_1271"
   ]
  }
 ],
 "metadata": {
  "language_info": {
   "name": "python"
  }
 },
 "nbformat": 4,
 "nbformat_minor": 2
}

{
 "cells": [
  {
   "cell_type": "markdown",
   "metadata": {},
   "source": [
    "https://code-enjoy.ru/ege_po_informatike_2025_zadanie_9_elektroniie_tablica/"
   ]
  },
  {
   "cell_type": "markdown",
   "metadata": {},
   "source": [
    "https://labs-org.ru/ege-9/"
   ]
  },
  {
   "cell_type": "markdown",
   "metadata": {},
   "source": [
    "https://www.yaklass.ru/p/edinyj-gosudarstvennyj-ekzamen/informatika/ege-trenazher-7330677/zadanie-9-elektronnye-tablitcy-7330686/re-4a05353b-5f4e-4e66-a268-9343a236832e"
   ]
  },
  {
   "cell_type": "markdown",
   "metadata": {},
   "source": [
    "https://rutube.ru/video/125561ee222f30a28440034e66e9361d/"
   ]
  }
 ],
 "metadata": {
  "language_info": {
   "name": "python"
  }
 },
 "nbformat": 4,
 "nbformat_minor": 2
}

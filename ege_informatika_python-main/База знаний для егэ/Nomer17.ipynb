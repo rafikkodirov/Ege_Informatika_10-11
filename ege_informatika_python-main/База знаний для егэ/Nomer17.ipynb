{
 "cells": [
  {
   "cell_type": "markdown",
   "metadata": {},
   "source": [
    "https://labs-org.ru/ege-17/"
   ]
  },
  {
   "cell_type": "markdown",
   "metadata": {},
   "source": [
    "https://rutube.ru/video/2eba28579e32489edff49aad7b7260f1/"
   ]
  },
  {
   "cell_type": "markdown",
   "metadata": {},
   "source": [
    "https://code-enjoy.ru/ege_po_informatike_2025_zadanie_17_pishem_programmu/"
   ]
  },
  {
   "cell_type": "markdown",
   "metadata": {},
   "source": [
    "https://www.yaklass.ru/p/edinyj-gosudarstvennyj-ekzamen/informatika/ege-trenazher-7330677/zadanie-17-obrabotka-chislovoi-posledovatelnosti-7330694/re-a1ad064f-7580-4c9c-ab2c-97a23a0e08d5"
   ]
  }
 ],
 "metadata": {
  "language_info": {
   "name": "python"
  }
 },
 "nbformat": 4,
 "nbformat_minor": 2
}

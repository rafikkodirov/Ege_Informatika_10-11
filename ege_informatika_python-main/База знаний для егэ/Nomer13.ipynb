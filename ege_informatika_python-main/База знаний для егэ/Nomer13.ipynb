{
 "cells": [
  {
   "cell_type": "markdown",
   "metadata": {},
   "source": [
    "https://code-enjoy.ru/ege_po_informatike_2025_zadanie_13_ip_adresa/"
   ]
  },
  {
   "cell_type": "markdown",
   "metadata": {},
   "source": [
    "https://www.youtube.com/watch?v=tW6rVHNHuJU"
   ]
  },
  {
   "cell_type": "markdown",
   "metadata": {},
   "source": [
    "https://vk.com/wall-205997912_1950"
   ]
  },
  {
   "cell_type": "markdown",
   "metadata": {},
   "source": [
    "https://victor-komlev.ru/reshenie-zadanij-13-ege-organizatsiya-kompyuternyh-setej-i-adresatsiya/"
   ]
  }
 ],
 "metadata": {
  "language_info": {
   "name": "python"
  }
 },
 "nbformat": 4,
 "nbformat_minor": 2
}

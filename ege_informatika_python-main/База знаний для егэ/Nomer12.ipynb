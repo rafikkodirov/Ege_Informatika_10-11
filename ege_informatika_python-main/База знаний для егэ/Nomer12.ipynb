{
 "cells": [
  {
   "cell_type": "markdown",
   "metadata": {},
   "source": [
    "https://code-enjoy.ru/ege_po_informatike_2025_zadanie_12_vpered_k_pobede/"
   ]
  },
  {
   "cell_type": "markdown",
   "metadata": {},
   "source": [
    "https://labs-org.ru/ege-12/"
   ]
  },
  {
   "cell_type": "markdown",
   "metadata": {},
   "source": [
    "https://vk.com/video-205865487_456239713"
   ]
  },
  {
   "cell_type": "markdown",
   "metadata": {},
   "source": [
    "https://www.yaklass.ru/p/informatika/python-bazovyj-uroven/reshenie-zadach-ege-s-pomoshchiu-iazyka-python-6985557/zadanie-12-vypolnenie-algoritmov-dlia-ispolnitelei-6927134/re-d7edc109-d63d-4139-878e-0f788907d483"
   ]
  }
 ],
 "metadata": {
  "language_info": {
   "name": "python"
  }
 },
 "nbformat": 4,
 "nbformat_minor": 2
}

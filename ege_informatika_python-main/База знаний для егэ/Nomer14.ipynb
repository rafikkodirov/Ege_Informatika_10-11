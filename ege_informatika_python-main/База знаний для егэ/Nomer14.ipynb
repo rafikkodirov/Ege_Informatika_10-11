{
 "cells": [
  {
   "cell_type": "markdown",
   "metadata": {},
   "source": [
    "https://multiurok.ru/files/ege-2023-po-informatike-razbor-zadaniia-14.html"
   ]
  },
  {
   "cell_type": "markdown",
   "metadata": {},
   "source": [
    "https://code-enjoy.ru/ege_po_informatike_demo_2025_zadaniya_8_14/"
   ]
  },
  {
   "cell_type": "markdown",
   "metadata": {},
   "source": [
    "https://www.yaklass.ru/p/informatika/python-bazovyj-uroven/reshenie-zadach-ege-s-pomoshchiu-iazyka-python-6985557/zadanie-14-sistemy-schisleniia-6924921/re-16044474-a16c-4f7c-adf2-dcaf4631fc18"
   ]
  },
  {
   "cell_type": "markdown",
   "metadata": {},
   "source": [
    "https://labs-org.ru/ege-14/"
   ]
  }
 ],
 "metadata": {
  "language_info": {
   "name": "python"
  }
 },
 "nbformat": 4,
 "nbformat_minor": 2
}

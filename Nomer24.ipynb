{
 "cells": [
  {
   "cell_type": "markdown",
   "metadata": {},
   "source": [
    "https://code-enjoy.ru/ege_po_informatike_2025_zadanie_24_polniy_razbor/"
   ]
  },
  {
   "cell_type": "markdown",
   "metadata": {},
   "source": [
    "https://labs-org.ru/ege-24/"
   ]
  },
  {
   "cell_type": "markdown",
   "metadata": {},
   "source": [
    "https://www.yaklass.ru/p/edinyj-gosudarstvennyj-ekzamen/informatika/ege-trenazher-7330677/zadanie-24-obrabotka-simvolnykh-strok-7330701/re-df6bd010-691b-4ca4-af08-d2ccd1777a02"
   ]
  },
  {
   "cell_type": "markdown",
   "metadata": {},
   "source": [
    "https://rutube.ru/video/cccebd709504291b0c6327e915217885/"
   ]
  },
  {
   "cell_type": "markdown",
   "metadata": {},
   "source": [
    "https://egeturbo.ru/ege/inf/tasks/24"
   ]
  },
  {
   "cell_type": "markdown",
   "metadata": {},
   "source": [
    "https://4ege.ru/video-informatika/72312-zadanie-24-ege-po-informatike.html"
   ]
  }
 ],
 "metadata": {
  "language_info": {
   "name": "python"
  }
 },
 "nbformat": 4,
 "nbformat_minor": 2
}

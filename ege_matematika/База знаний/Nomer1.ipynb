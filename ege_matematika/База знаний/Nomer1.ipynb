{
 "cells": [
  {
   "cell_type": "markdown",
   "metadata": {},
   "source": [
    "https://webium.ru/media/material/kak-reshat-pervoe-zadanie-v-ege-2025-po-russkomu-yazyku/"
   ]
  },
  {
   "cell_type": "markdown",
   "metadata": {},
   "source": [
    "https://4ege.ru/russkiy/67276-teorija-k-zadaniju-1-ege-po-russkomu-jazyku.html"
   ]
  },
  {
   "cell_type": "markdown",
   "metadata": {},
   "source": [
    "https://rustutors.ru/egeteoriya/1134-zadanie-1.html"
   ]
  }
 ],
 "metadata": {
  "language_info": {
   "name": "python"
  }
 },
 "nbformat": 4,
 "nbformat_minor": 2
}

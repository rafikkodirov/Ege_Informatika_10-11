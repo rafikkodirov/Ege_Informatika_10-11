{
 "cells": [
  {
   "cell_type": "markdown",
   "metadata": {},
   "source": [
    "https://examer.ru/ege_po_matematike/teoriya/trigonometricheskie_vyrageniya"
   ]
  },
  {
   "cell_type": "markdown",
   "metadata": {},
   "source": [
    "https://100ballnik.com/wp-content/uploads/2022/09/формулы_задание-1-егэ2023-математика-профиль.pdf"
   ]
  },
  {
   "cell_type": "markdown",
   "metadata": {},
   "source": [
    "https://4ege.ru/matematika/65933-formuly-k-pervoj-chasti-profilnogo-ege-po-matematike.html"
   ]
  },
  {
   "cell_type": "markdown",
   "metadata": {},
   "source": [
    "https://vk.com/wall-206922765_197"
   ]
  }
 ],
 "metadata": {
  "language_info": {
   "name": "python"
  }
 },
 "nbformat": 4,
 "nbformat_minor": 2
}

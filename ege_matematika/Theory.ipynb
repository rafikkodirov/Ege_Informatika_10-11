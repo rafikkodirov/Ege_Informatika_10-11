{
 "cells": [
  {
   "cell_type": "markdown",
   "metadata": {},
   "source": [
    "https://4ege.ru/matematika/2666-teoriya-k-ege-po-matematike.html"
   ]
  },
  {
   "cell_type": "markdown",
   "metadata": {},
   "source": [
    "https://www.rsu.edu.ru/wp-content/uploads/e-learning/Naziev_Math_EGE_Course/Math_topic_2.pdf"
   ]
  },
  {
   "cell_type": "markdown",
   "metadata": {},
   "source": [
    "https://step2009.ucoz.net/oge/spravochnik-geometriya.pdf"
   ]
  }
 ],
 "metadata": {
  "language_info": {
   "name": "python"
  }
 },
 "nbformat": 4,
 "nbformat_minor": 2
}
